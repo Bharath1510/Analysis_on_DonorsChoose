{
 "cells": [
  {
   "cell_type": "markdown",
   "metadata": {
    "id": "Dnubs-Nnb3cw"
   },
   "source": [
    "# Assignment 6: Apply NB"
   ]
  },
  {
   "cell_type": "markdown",
   "metadata": {
    "id": "RW0zYHb5m_wI"
   },
   "source": [
    "<ol>\n",
    "    <li>Minimum data points need to be considered for people having 4GB RAM is <strong>50k</strong> and for 8GB RAM is <strong>100k</strong></li>\n",
    "    <li>When you are using ramdomsearchcv or gridsearchcv you need not split the data into X_train,X_cv,X_test. As the above methods use kfold. The model will learn better if train data is more so splitting to X_train,X_test will suffice.</li>\n",
    "    <li>If you are writing for loops to tune your model then you need split the data into X_train,X_cv,X_test.</li>\n",
    "    <li>While splitting the data explore stratify parameter. </li>\n",
    "    <li><strong>Apply Multinomial NB on these feature sets</strong></li>\n",
    "        <ul>\n",
    "            <li>Features that need to be considered</li> \n",
    "                <dl>\n",
    "                  <dt>essay</dt>\n",
    "                    <dd>while encoding essay, try to experiment with the max_features and n_grams parameter of vectorizers and see if it increases AUC score.</dd>\n",
    "                  <dt>categorical features</dt>\n",
    "                  <dd> - teacher_prefix</dd>\n",
    "                  <dd> - project_grade_category</dd>\n",
    "                  <dd> - school_state</dd>\n",
    "                  <dd> - clean_categories</dd>\n",
    "                  <dd> - clean_subcategories</dd>\n",
    "                  <dt>numerical features</dt>\n",
    "                  <dd> - price</dd>\n",
    "                  <dd> - teacher_number_of_previously_posted_projects</dd>\n",
    "                  <dd>while encoding the numerical features check <a href='https://imgur.com/ldZA1zg'>this</a> and <a href='https://ac-classroom-production.s3.amazonaws.com/public/COMMENT/Annotation_2020-05-21_225912_0lyZzN8.jpg'>this</a></dd>\n",
    "                </dl>    \n",
    "            <li><font color='red'>Set 1</font>: categorical, numerical features + preprocessed_eassay (BOW)</li>\n",
    "            <li><font color='red'>Set 2</font>: categorical, numerical features + preprocessed_eassay (TFIDF)</li>\n",
    "        </ul>\n",
    "    <li><strong>The hyper paramter tuning(find best alpha:smoothing parameter)</strong>\n",
    "        <ul>\n",
    "    <li>Consider alpha values in range: 10^-5 to 10^2 like [0.00001,0.0005, 0.0001,0.005,0.001,0.05,0.01,0.1,0.5,1,5,10,50,100]</li>\n",
    "    <li>Explore class_prior = [0.5, 0.5] parameter which can be present in MultinomialNB function(go through <a href='https://scikit-learn.org/stable/modules/generated/sklearn.naive_bayes.MultinomialNB.html'>this</a> ) then check how results might change.\n",
    "    <li>Find the best hyper parameter which will give the maximum <a href='https://www.appliedaicourse.com/course/applied-ai-course-online/lessons/receiver-operating-characteristic-curve-roc-curve-and-auc-1/'>AUC</a> value</li>\n",
    "    <li>For hyper parameter tuning using k-fold cross validation(use GridsearchCV or RandomsearchCV)/simple cross validation data (write for loop to iterate over hyper parameter values)</li>\n",
    "    <li>You need to plot the performance of model both on train data and cross validation data for each hyper parameter, like shown in the figure\n",
    "    <img src='https://i.imgur.com/hUv6aEy.jpg' width=300px><dd>-while plotting take log(alpha) on your X-axis so that it will be more readable</dd></li>\n",
    "    <li>Once after you found the best hyper parameter, you need to train your model with it, and find the AUC on test data and plot the ROC curve on both train and test.\n",
    "    <img src='https://imgur.com/q2P65L5.jpg' width=300px></li>\n",
    "    <li>Along with plotting ROC curve, you need to print the <a href='https://www.appliedaicourse.com/course/applied-ai-course-online/lessons/confusion-matrix-tpr-fpr-fnr-tnr-1/'>confusion matrix</a> with predicted and original labels of test data points\n",
    "        <img src='https://i.imgur.com/IdN5Ctv.png' width=300px><dd>-plot the confusion matrix in heatmaps, while plotting the confusion matrix go through the <a href='https://stackoverflow.com/questions/61748441/how-to-fix-the-values-displayed-in-a-confusion-matrix-in-exponential-form-to-nor'>link </a>\n",
    "</dd></li>\n",
    "        </ul>\n",
    "<li>find the top 20 features from either from feature <font color='red'>Set 1</font> or feature <font color='red'>Set 2</font> using values of `feature_log_prob_ ` parameter of `MultinomialNB` \n",
    "(https://scikit-learn.org/stable/modules/generated/sklearn.naive_bayes.MultinomialNB.html) and print <strong>BOTH</strong> positive as well as negative corresponding feature names. <dd> - go through the <a href='https://imgur.com/mWvE7gj'>link </a> </dd>\n",
    "    </li>\n",
    "    <li>You need to summarize the results at the end of the notebook, summarize it in the table format\n",
    "        <img src='http://i.imgur.com/YVpIGGE.jpg' width=400px>\n",
    "    </li>\n",
    "</ol>"
   ]
  },
  {
   "cell_type": "code",
   "execution_count": 1,
   "metadata": {
    "id": "chpSjDaXm9KG"
   },
   "outputs": [],
   "source": [
    "# Importing necessary packages & modules\n",
    "import numpy as np\n",
    "import seaborn as sns\n",
    "import matplotlib.pyplot as plt \n",
    "import warnings\n",
    "warnings.filterwarnings('ignore')"
   ]
  },
  {
   "cell_type": "markdown",
   "metadata": {
    "id": "inzYCIaib3c3"
   },
   "source": [
    "<h1>2. Naive Bayes </h1>"
   ]
  },
  {
   "cell_type": "markdown",
   "metadata": {
    "id": "FYqCIxzFb3c5"
   },
   "source": [
    "## 1.1 Loading Data"
   ]
  },
  {
   "cell_type": "code",
   "execution_count": 2,
   "metadata": {
    "id": "dA1jknyqb3c_"
   },
   "outputs": [],
   "source": [
    "#make sure you are loading atleast 50k datapoints\n",
    "#you can work with features of preprocessed_data.csv for the assignment.\n",
    "# If you want to add more features, you can add. (This is purely optional, not mandatory)\n",
    "\n",
    "import pandas\n",
    "df = pandas.read_csv('preprocessed_data.csv',nrows=50000)# reading the csv file with 50000 data points"
   ]
  },
  {
   "cell_type": "code",
   "execution_count": 3,
   "metadata": {},
   "outputs": [
    {
     "data": {
      "text/html": [
       "<div>\n",
       "<style scoped>\n",
       "    .dataframe tbody tr th:only-of-type {\n",
       "        vertical-align: middle;\n",
       "    }\n",
       "\n",
       "    .dataframe tbody tr th {\n",
       "        vertical-align: top;\n",
       "    }\n",
       "\n",
       "    .dataframe thead th {\n",
       "        text-align: right;\n",
       "    }\n",
       "</style>\n",
       "<table border=\"1\" class=\"dataframe\">\n",
       "  <thead>\n",
       "    <tr style=\"text-align: right;\">\n",
       "      <th></th>\n",
       "      <th>school_state</th>\n",
       "      <th>teacher_prefix</th>\n",
       "      <th>project_grade_category</th>\n",
       "      <th>teacher_number_of_previously_posted_projects</th>\n",
       "      <th>project_is_approved</th>\n",
       "      <th>clean_categories</th>\n",
       "      <th>clean_subcategories</th>\n",
       "      <th>essay</th>\n",
       "      <th>price</th>\n",
       "    </tr>\n",
       "  </thead>\n",
       "  <tbody>\n",
       "    <tr>\n",
       "      <th>0</th>\n",
       "      <td>ca</td>\n",
       "      <td>mrs</td>\n",
       "      <td>grades_prek_2</td>\n",
       "      <td>53</td>\n",
       "      <td>1</td>\n",
       "      <td>math_science</td>\n",
       "      <td>appliedsciences health_lifescience</td>\n",
       "      <td>i fortunate enough use fairy tale stem kits cl...</td>\n",
       "      <td>725.05</td>\n",
       "    </tr>\n",
       "    <tr>\n",
       "      <th>1</th>\n",
       "      <td>ut</td>\n",
       "      <td>ms</td>\n",
       "      <td>grades_3_5</td>\n",
       "      <td>4</td>\n",
       "      <td>1</td>\n",
       "      <td>specialneeds</td>\n",
       "      <td>specialneeds</td>\n",
       "      <td>imagine 8 9 years old you third grade classroo...</td>\n",
       "      <td>213.03</td>\n",
       "    </tr>\n",
       "    <tr>\n",
       "      <th>2</th>\n",
       "      <td>ca</td>\n",
       "      <td>mrs</td>\n",
       "      <td>grades_prek_2</td>\n",
       "      <td>10</td>\n",
       "      <td>1</td>\n",
       "      <td>literacy_language</td>\n",
       "      <td>literacy</td>\n",
       "      <td>having class 24 students comes diverse learner...</td>\n",
       "      <td>329.00</td>\n",
       "    </tr>\n",
       "    <tr>\n",
       "      <th>3</th>\n",
       "      <td>ga</td>\n",
       "      <td>mrs</td>\n",
       "      <td>grades_prek_2</td>\n",
       "      <td>2</td>\n",
       "      <td>1</td>\n",
       "      <td>appliedlearning</td>\n",
       "      <td>earlydevelopment</td>\n",
       "      <td>i recently read article giving students choice...</td>\n",
       "      <td>481.04</td>\n",
       "    </tr>\n",
       "    <tr>\n",
       "      <th>4</th>\n",
       "      <td>wa</td>\n",
       "      <td>mrs</td>\n",
       "      <td>grades_3_5</td>\n",
       "      <td>2</td>\n",
       "      <td>1</td>\n",
       "      <td>literacy_language</td>\n",
       "      <td>literacy</td>\n",
       "      <td>my students crave challenge eat obstacles brea...</td>\n",
       "      <td>17.74</td>\n",
       "    </tr>\n",
       "  </tbody>\n",
       "</table>\n",
       "</div>"
      ],
      "text/plain": [
       "  school_state teacher_prefix project_grade_category  \\\n",
       "0           ca            mrs          grades_prek_2   \n",
       "1           ut             ms             grades_3_5   \n",
       "2           ca            mrs          grades_prek_2   \n",
       "3           ga            mrs          grades_prek_2   \n",
       "4           wa            mrs             grades_3_5   \n",
       "\n",
       "   teacher_number_of_previously_posted_projects  project_is_approved  \\\n",
       "0                                            53                    1   \n",
       "1                                             4                    1   \n",
       "2                                            10                    1   \n",
       "3                                             2                    1   \n",
       "4                                             2                    1   \n",
       "\n",
       "    clean_categories                 clean_subcategories  \\\n",
       "0       math_science  appliedsciences health_lifescience   \n",
       "1       specialneeds                        specialneeds   \n",
       "2  literacy_language                            literacy   \n",
       "3    appliedlearning                    earlydevelopment   \n",
       "4  literacy_language                            literacy   \n",
       "\n",
       "                                               essay   price  \n",
       "0  i fortunate enough use fairy tale stem kits cl...  725.05  \n",
       "1  imagine 8 9 years old you third grade classroo...  213.03  \n",
       "2  having class 24 students comes diverse learner...  329.00  \n",
       "3  i recently read article giving students choice...  481.04  \n",
       "4  my students crave challenge eat obstacles brea...   17.74  "
      ]
     },
     "execution_count": 3,
     "metadata": {},
     "output_type": "execute_result"
    }
   ],
   "source": [
    "# to have a look at the dataset\n",
    "df.head()"
   ]
  },
  {
   "cell_type": "code",
   "execution_count": 4,
   "metadata": {
    "scrolled": true
   },
   "outputs": [
    {
     "name": "stdout",
     "output_type": "stream",
     "text": [
      "Shape of the dataset:  (50000, 9)\n"
     ]
    }
   ],
   "source": [
    "print(\"Shape of the dataset: \",df.shape)"
   ]
  },
  {
   "cell_type": "code",
   "execution_count": 5,
   "metadata": {},
   "outputs": [
    {
     "name": "stdout",
     "output_type": "stream",
     "text": [
      "1    41993\n",
      "0     8007\n",
      "Name: project_is_approved, dtype: int64\n",
      "83.986 %\n"
     ]
    }
   ],
   "source": [
    "x = df['project_is_approved'].value_counts()\n",
    "print(x)\n",
    "print(x[1]*100/x.sum(),\"%\")"
   ]
  },
  {
   "cell_type": "markdown",
   "metadata": {},
   "source": [
    "#### The dataset contains data of projects with 83.9% approvals"
   ]
  },
  {
   "cell_type": "code",
   "execution_count": 6,
   "metadata": {},
   "outputs": [
    {
     "name": "stdout",
     "output_type": "stream",
     "text": [
      "school_state          ak   al   ar   az    ca   co   ct   dc   de    fl  ...  \\\n",
      "project_is_approved                                                      ...   \n",
      "0                     31  108   93  181  1110   78   91   43   21   538  ...   \n",
      "1                    135  603  435  830  6232  398  575  206  167  2518  ...   \n",
      "\n",
      "school_state          sd   tn    tx   ut   va  vt   wa   wi   wv  wy  \n",
      "project_is_approved                                                   \n",
      "0                     20  123   729  159  146   9  126  136   46   3  \n",
      "1                    108  702  2860  819  792  36  914  687  218  18  \n",
      "\n",
      "[2 rows x 51 columns]\n",
      "----------------------------------------------------------------------------------------------------\n",
      "teacher_prefix       dr    mr    mrs     ms  teacher\n",
      "project_is_approved                                 \n",
      "0                     2   754   4103   2926      222\n",
      "1                     3  3866  22654  14697      773\n",
      "----------------------------------------------------------------------------------------------------\n",
      "project_grade_category  grades_3_5  grades_6_8  grades_9_12  grades_prek_2\n",
      "project_is_approved                                                       \n",
      "0                             2642        1265          768           3332\n",
      "1                            14426        6278         3950          17339\n"
     ]
    }
   ],
   "source": [
    "# To display crosstabualtion across different categorical features and project approvals\n",
    "print(pandas.crosstab(df['project_is_approved'],df['school_state']))\n",
    "print(\"--\"*50)\n",
    "print(pandas.crosstab(df['project_is_approved'],df['teacher_prefix']))\n",
    "print(\"--\"*50)\n",
    "print(pandas.crosstab(df['project_is_approved'],df['project_grade_category']))"
   ]
  },
  {
   "cell_type": "markdown",
   "metadata": {},
   "source": [
    "* California(ca) has the majority of project approvals and disapprovals\n",
    "* More than 75% of the projects of teachers with prefix (mr,mrs,ms) has been approved\n",
    "* more than 50% approvals belong to grades_3-5 and grades_prek_2"
   ]
  },
  {
   "cell_type": "code",
   "execution_count": 7,
   "metadata": {
    "scrolled": true
   },
   "outputs": [
    {
     "data": {
      "image/png": "[encoded data removed]",
      "text/plain": [
       "<Figure size 432x288 with 1 Axes>"
      ]
     },
     "metadata": {
      "needs_background": "light"
     },
     "output_type": "display_data"
    }
   ],
   "source": [
    "# Plotting using seaborn\n",
    "sns.scatterplot(df['teacher_prefix'],df['teacher_number_of_previously_posted_projects'],hue=df['project_is_approved'])\n",
    "plt.show()"
   ]
  },
  {
   "cell_type": "markdown",
   "metadata": {},
   "source": [
    "* total no. of previously posted projects is high for mrs & ms categories of teacher_prefix feature and\n",
    "* More than 75% of them are approved "
   ]
  },
  {
   "cell_type": "code",
   "execution_count": 8,
   "metadata": {},
   "outputs": [
    {
     "data": {
      "image/png": "[encoded data removed]",
      "text/plain": [
       "<Figure size 432x288 with 1 Axes>"
      ]
     },
     "metadata": {
      "needs_background": "light"
     },
     "output_type": "display_data"
    }
   ],
   "source": [
    "sns.scatterplot(df['teacher_number_of_previously_posted_projects'],df['price'],hue=df['project_is_approved'])\n",
    "plt.show()"
   ]
  },
  {
   "cell_type": "markdown",
   "metadata": {},
   "source": [
    "* The plot between no. of previously posted projects and price of the current project follows a power law distribution pattern\n",
    "* Teachers whose no. of previously posted projects is less are asking for high price for the current project and vice-versa."
   ]
  },
  {
   "cell_type": "markdown",
   "metadata": {
    "id": "WtVV13Fyb3dH"
   },
   "source": [
    "<h2>1.2 Splitting data into Train and cross validation(or test): Stratified Sampling</h2>"
   ]
  },
  {
   "cell_type": "code",
   "execution_count": 9,
   "metadata": {},
   "outputs": [],
   "source": [
    "# write your code in following steps for task 1\n",
    "# 1. Split your data.\n",
    "# 2. Perform Bag of Words Vectorization of text data.\n",
    "# 3. Perform tfidf vectorization of text data.\n",
    "# 4. perform one-hot encoding of categorical features.\n",
    "# 5. perform normalization of numerical features\n",
    "# 6. For set 1 stack up all the features using hstack()\n",
    "# 7. For set 2 stack up all the features using hstack()\n",
    "# 8. Perform hyperparameter tuning and represent the training and cross-validation AUC scores for different 'alpha' values, using a 2D line plot.\n",
    "# 9. Find the best hyperparameter 'alpha' and fit the model. Plot ROC-AUC curve(by obtaining the probabilities using 'predict proba' method)\n",
    "# 10. Plot confusion matrix based on the best threshold value\n",
    "# 11. Either for the model in set 1 or in set 2, print the top 20 features(you have to print the names, not the indexes) associated with the positive and negative classes each.\n",
    "# 12. Summarize your observations and compare both the models(ie., from set 1 and set 2) in terms of optimal hyperparameter value, train AUC and test AUC scores. \n",
    "# 13. You can use Prettytable or any other tabular format for comparison.\n",
    "\n",
    "\n",
    "# please write all the code with proper documentation, and proper titles for each subsection\n",
    "# go through documentations and blogs before you start coding\n",
    "# first figure out what to do, and then think about how to do.\n",
    "# reading and understanding error messages will be very much helpfull in debugging your code\n",
    "# when you plot any graph make sure you use \n",
    "    # a. Title, that describes your plot, this will be very helpful to the reader\n",
    "    # b. Legends if needed\n",
    "    # c. X-axis label\n",
    "    # d. Y-axis label\n",
    "    "
   ]
  },
  {
   "cell_type": "code",
   "execution_count": 10,
   "metadata": {
    "id": "i-PyprDNb3dI"
   },
   "outputs": [],
   "source": [
    "# Split the dataset \n",
    "# 1) If you want to apply simple cross-validation, split the dataset into 3 parts (ie., train, CV and test sets)\n",
    "# 2) If you want to apply K-fold CV (or) GridSearch Cross Validation (or) Randomized Search Cross Validation, just split the dataset into 2 parts (ie., train and test sets)"
   ]
  },
  {
   "cell_type": "code",
   "execution_count": 11,
   "metadata": {},
   "outputs": [],
   "source": [
    "# defining data beloning to X(features) & Y(target variable) \n",
    "Y = df['project_is_approved']\n",
    "X = df.drop(['project_is_approved','clean_categories','clean_subcategories'],axis = 1)"
   ]
  },
  {
   "cell_type": "code",
   "execution_count": 12,
   "metadata": {},
   "outputs": [
    {
     "name": "stdout",
     "output_type": "stream",
     "text": [
      "X_train shape: (33500, 6)\n",
      "X_test shape: (16500, 6)\n",
      "Y_train shape: (33500,)\n",
      "Y_test shape: (16500,)\n"
     ]
    }
   ],
   "source": [
    "from sklearn.model_selection import train_test_split\n",
    "# Splitting the data\n",
    "X_train,X_test,Y_train,Y_test = train_test_split(X,Y,test_size=0.33,stratify=Y)\n",
    "print('X_train shape:',X_train.shape)\n",
    "print('X_test shape:',X_test.shape)\n",
    "print('Y_train shape:',Y_train.shape)\n",
    "print('Y_test shape:',Y_test.shape)"
   ]
  },
  {
   "cell_type": "code",
   "execution_count": 13,
   "metadata": {},
   "outputs": [],
   "source": [
    "#defining feature sets to list all the features after vectorization\n",
    "features_set1 = []\n",
    "features_set2 = []"
   ]
  },
  {
   "cell_type": "markdown",
   "metadata": {
    "id": "EnZwVNULb3dO"
   },
   "source": [
    "<h2>1.3 Make Data Model Ready: encoding essay, and project_title</h2>"
   ]
  },
  {
   "cell_type": "code",
   "execution_count": 14,
   "metadata": {},
   "outputs": [
    {
     "name": "stdout",
     "output_type": "stream",
     "text": [
      "(33500, 5000)\n",
      "(16500, 5000)\n"
     ]
    },
    {
     "data": {
      "text/plain": [
       "['000',\n",
       " '10',\n",
       " '100',\n",
       " '100 free',\n",
       " '100 percent',\n",
       " '100 students',\n",
       " '100 students receive',\n",
       " '100 students receive free',\n",
       " '11',\n",
       " '12',\n",
       " '12th',\n",
       " '13',\n",
       " '14',\n",
       " '15',\n",
       " '16',\n",
       " '17',\n",
       " '18',\n",
       " '1st',\n",
       " '1st grade',\n",
       " '20']"
      ]
     },
     "execution_count": 14,
     "metadata": {},
     "output_type": "execute_result"
    }
   ],
   "source": [
    "# Apply Bag of Words (BOW) vectorization on 'Preprocessed_Essay' \n",
    "# Apply Bag of Words (BOW) vectorization on 'Preprocessed_Title' (Optional)\n",
    "from sklearn.feature_extraction.text import CountVectorizer\n",
    "\n",
    "BOW = CountVectorizer(min_df=10, ngram_range=(1,4),max_features=5000)\n",
    "# Applying Bag of words vectorization with min. document frequency of 10 and nGram range of (1-4) and max features of 5000\n",
    "BOW.fit(X_train['essay'].values)\n",
    "X_train_bow = BOW.transform(X_train['essay'].values)#BOW on train essay\n",
    "X_test_bow = BOW.transform(X_test['essay'].values)# BOW on test essay\n",
    "print(X_train_bow.shape)\n",
    "print(X_test_bow.shape)\n",
    "features_set1.extend(BOW.get_feature_names())#appending feature names\n",
    "BOW.get_feature_names()[:20]"
   ]
  },
  {
   "cell_type": "code",
   "execution_count": 15,
   "metadata": {},
   "outputs": [
    {
     "name": "stdout",
     "output_type": "stream",
     "text": [
      "(33500, 5000)\n",
      "(16500, 5000)\n"
     ]
    },
    {
     "data": {
      "text/plain": [
       "['000',\n",
       " '10',\n",
       " '100',\n",
       " '100 free',\n",
       " '100 percent',\n",
       " '100 students',\n",
       " '100 students receive',\n",
       " '100 students receive free',\n",
       " '11',\n",
       " '12',\n",
       " '12th',\n",
       " '13',\n",
       " '14',\n",
       " '15',\n",
       " '16',\n",
       " '17',\n",
       " '18',\n",
       " '1st',\n",
       " '1st grade',\n",
       " '20']"
      ]
     },
     "execution_count": 15,
     "metadata": {},
     "output_type": "execute_result"
    }
   ],
   "source": [
    "# Apply TF-IDF vectorization on 'Preprocessed_Essay' \n",
    "# Apply TF-IDF vectorization on 'Preprocessed_Title' (Optional)\n",
    "from sklearn.feature_extraction.text import TfidfVectorizer\n",
    "\n",
    "tfidf = TfidfVectorizer(min_df=10, ngram_range=(1,4),max_features=5000)\n",
    "# Applying Tfidf vectorization with min. document frequency of 10 and nGram range of (1-4) and max features of 5000\n",
    "tfidf.fit(X_train['essay'].values)\n",
    "X_train_tfidf = tfidf.transform(X_train['essay'].values)#Tfidf on train essay\n",
    "X_test_tfidf = tfidf.transform(X_test['essay'].values)# Tfidf on test essay\n",
    "print(X_train_tfidf.shape)\n",
    "print(X_test_tfidf.shape)\n",
    "features_set2.extend(tfidf.get_feature_names())#appending feature names\n",
    "tfidf.get_feature_names()[:20]"
   ]
  },
  {
   "cell_type": "markdown",
   "metadata": {
    "id": "bGy86kgHb3dX"
   },
   "source": [
    "<h2>1.4 Make Data Model Ready: encoding numerical, categorical features</h2>"
   ]
  },
  {
   "cell_type": "code",
   "execution_count": 16,
   "metadata": {
    "id": "EfXkofX1b3da"
   },
   "outputs": [
    {
     "name": "stdout",
     "output_type": "stream",
     "text": [
      "(33500, 51)\n",
      "(16500, 51)\n"
     ]
    }
   ],
   "source": [
    "# Apply One-Hot Encoding on the categorical features either using OneHotEncoder() (or) CountVectorizer(binary=True)\n",
    "# Apply Normalization on the numerical features using Normalizer().\n",
    "BOW = CountVectorizer()\n",
    "# Bag of words on categorical features\n",
    "BOW.fit(X_train['school_state'].values)\n",
    "X_train_bow_st = BOW.transform(X_train['school_state'].values)# BOW on train School state\n",
    "X_test_bow_st = BOW.transform(X_test['school_state'].values)# BOW on test School state\n",
    "print(X_train_bow_st.shape)\n",
    "print(X_test_bow_st.shape)\n",
    "features_set1.extend(BOW.get_feature_names())#appending feature names"
   ]
  },
  {
   "cell_type": "code",
   "execution_count": 17,
   "metadata": {},
   "outputs": [
    {
     "name": "stdout",
     "output_type": "stream",
     "text": [
      "(33500, 4)\n",
      "(16500, 4)\n",
      "['mr', 'mrs', 'ms', 'teacher']\n"
     ]
    }
   ],
   "source": [
    "BOW = CountVectorizer()\n",
    "BOW.fit(X_train['teacher_prefix'].values)\n",
    "X_train_bow_pr = BOW.transform(X_train['teacher_prefix'].values)# BOW on train teacher prefix\n",
    "X_test_bow_pr = BOW.transform(X_test['teacher_prefix'].values)# BOW on test teacher prefix\n",
    "print(X_train_bow_pr.shape)\n",
    "print(X_test_bow_pr.shape)\n",
    "print(BOW.get_feature_names())\n",
    "features_set1.extend(BOW.get_feature_names())#appending feature names"
   ]
  },
  {
   "cell_type": "code",
   "execution_count": 18,
   "metadata": {},
   "outputs": [
    {
     "name": "stdout",
     "output_type": "stream",
     "text": [
      "(33500, 4)\n",
      "(16500, 4)\n",
      "['grades_3_5', 'grades_6_8', 'grades_9_12', 'grades_prek_2']\n"
     ]
    }
   ],
   "source": [
    "BOW = CountVectorizer()\n",
    "BOW.fit(X_train['project_grade_category'].values)\n",
    "X_train_bow_pc = BOW.transform(X_train['project_grade_category'].values)#BOW on project grade category of train data\n",
    "X_test_bow_pc = BOW.transform(X_test['project_grade_category'].values)#BOW on project grade category of test data\n",
    "print(X_train_bow_pc.shape)\n",
    "print(X_test_bow_pc.shape)\n",
    "print(BOW.get_feature_names())\n",
    "features_set1.extend(BOW.get_feature_names())#appending feature names"
   ]
  },
  {
   "cell_type": "code",
   "execution_count": 19,
   "metadata": {},
   "outputs": [
    {
     "name": "stdout",
     "output_type": "stream",
     "text": [
      "(33500, 1)\n",
      "(16500, 1)\n"
     ]
    }
   ],
   "source": [
    "from sklearn.preprocessing import Normalizer\n",
    "\n",
    "norm = Normalizer()\n",
    "# Normalizing the price column\n",
    "norm.fit(X_train['price'].values.reshape(-1,1))\n",
    "\n",
    "X_train_price = norm.transform(X_train['price'].values.reshape(-1,1))\n",
    "X_test_price = norm.transform(X_test['price'].values.reshape(-1,1))\n",
    "\n",
    "print(X_train_price.shape)\n",
    "print(X_test_price.shape)\n",
    "features_set1.append('price')#appending feature names"
   ]
  },
  {
   "cell_type": "code",
   "execution_count": 20,
   "metadata": {},
   "outputs": [
    {
     "name": "stdout",
     "output_type": "stream",
     "text": [
      "(33500, 51)\n",
      "(16500, 51)\n"
     ]
    }
   ],
   "source": [
    "tfidf = TfidfVectorizer()\n",
    "tfidf.fit(X_train['school_state'].values)\n",
    "X_train_tfidf_st = tfidf.transform(X_train['school_state'].values)#Tfidf on train school state\n",
    "X_test_tfidf_st = tfidf.transform(X_test['school_state'].values)# Tfidf on test school state\n",
    "print(X_train_tfidf_st.shape)\n",
    "print(X_test_tfidf_st.shape)\n",
    "features_set2.extend(tfidf.get_feature_names())#appending feature names"
   ]
  },
  {
   "cell_type": "code",
   "execution_count": 21,
   "metadata": {},
   "outputs": [
    {
     "name": "stdout",
     "output_type": "stream",
     "text": [
      "(33500, 4)\n",
      "(16500, 4)\n",
      "['mr', 'mrs', 'ms', 'teacher']\n"
     ]
    }
   ],
   "source": [
    "tfidf = TfidfVectorizer()\n",
    "tfidf.fit(X_train['teacher_prefix'].values)\n",
    "X_train_tfidf_pr = tfidf.transform(X_train['teacher_prefix'].values)# Tfidf on train teacher prefix\n",
    "X_test_tfidf_pr = tfidf.transform(X_test['teacher_prefix'].values)# Tfidf on test teacher prefix\n",
    "print(X_train_tfidf_pr.shape)\n",
    "print(X_test_tfidf_pr.shape)\n",
    "print(tfidf.get_feature_names())\n",
    "features_set2.extend(tfidf.get_feature_names())#appending feature names"
   ]
  },
  {
   "cell_type": "code",
   "execution_count": 22,
   "metadata": {},
   "outputs": [
    {
     "name": "stdout",
     "output_type": "stream",
     "text": [
      "(33500, 4)\n",
      "(16500, 4)\n",
      "['grades_3_5', 'grades_6_8', 'grades_9_12', 'grades_prek_2']\n"
     ]
    }
   ],
   "source": [
    "tfidf = TfidfVectorizer()\n",
    "tfidf.fit(X_train['project_grade_category'].values)\n",
    "X_train_tfidf_pc = tfidf.transform(X_train['project_grade_category'].values)#Tfidf on project grade category of train data\n",
    "X_test_tfidf_pc = tfidf.transform(X_test['project_grade_category'].values)#Tfidf on project grade category of test data\n",
    "print(X_train_tfidf_pc.shape)\n",
    "print(X_test_tfidf_pc.shape)\n",
    "print(tfidf.get_feature_names())\n",
    "features_set2.extend(tfidf.get_feature_names())#appending feature names\n",
    "features_set2.append('price')#appending feature names"
   ]
  },
  {
   "cell_type": "markdown",
   "metadata": {
    "id": "yYHPYadYb3dh"
   },
   "source": [
    "<h2>1.5 Appling NB on different kind of featurization as mentioned in the instructions</h2>\n",
    "\n",
    "<br>Apply NB on different kind of featurization as mentioned in the instructions\n",
    "<br> For Every model that you work on make sure you do the step 2 and step 3 of instrucations"
   ]
  },
  {
   "cell_type": "markdown",
   "metadata": {
    "id": "DNwqilFxb3di"
   },
   "source": [
    "#### Set 1"
   ]
  },
  {
   "cell_type": "code",
   "execution_count": 23,
   "metadata": {},
   "outputs": [
    {
     "name": "stdout",
     "output_type": "stream",
     "text": [
      "Final Data matrix\n",
      "(33500, 5060) (33500,)\n",
      "(16500, 5060) (16500,)\n"
     ]
    }
   ],
   "source": [
    "from scipy.sparse import hstack\n",
    "# X train data formation using hstack of BOW vectorized data\n",
    "x_tr = hstack((X_train_bow,X_train_bow_st,X_train_bow_pr,X_train_bow_pc,X_train_price)).tocsr()\n",
    "x_ts = hstack((X_test_bow,X_test_bow_st,X_test_bow_pr,X_test_bow_pc,X_test_price)).tocsr()\n",
    "\n",
    "print(\"Final Data matrix\")\n",
    "print(x_tr.shape,Y_train.shape)\n",
    "print(x_ts.shape,Y_test.shape)"
   ]
  },
  {
   "cell_type": "code",
   "execution_count": 24,
   "metadata": {},
   "outputs": [],
   "source": [
    "#Importing the necessary packages\n",
    "from sklearn.naive_bayes import MultinomialNB\n",
    "from sklearn.model_selection import GridSearchCV\n",
    "from sklearn.model_selection import RandomizedSearchCV\n",
    "from sklearn.metrics import roc_curve,auc,confusion_matrix"
   ]
  },
  {
   "cell_type": "code",
   "execution_count": 25,
   "metadata": {},
   "outputs": [
    {
     "data": {
      "image/png": "[encoded data removed]",
      "text/plain": [
       "<Figure size 432x288 with 1 Axes>"
      ]
     },
     "metadata": {
      "needs_background": "light"
     },
     "output_type": "display_data"
    },
    {
     "data": {
      "text/html": [
       "<div>\n",
       "<style scoped>\n",
       "    .dataframe tbody tr th:only-of-type {\n",
       "        vertical-align: middle;\n",
       "    }\n",
       "\n",
       "    .dataframe tbody tr th {\n",
       "        vertical-align: top;\n",
       "    }\n",
       "\n",
       "    .dataframe thead th {\n",
       "        text-align: right;\n",
       "    }\n",
       "</style>\n",
       "<table border=\"1\" class=\"dataframe\">\n",
       "  <thead>\n",
       "    <tr style=\"text-align: right;\">\n",
       "      <th></th>\n",
       "      <th>mean_fit_time</th>\n",
       "      <th>std_fit_time</th>\n",
       "      <th>mean_score_time</th>\n",
       "      <th>std_score_time</th>\n",
       "      <th>param_alpha</th>\n",
       "      <th>params</th>\n",
       "      <th>split0_test_score</th>\n",
       "      <th>split1_test_score</th>\n",
       "      <th>split2_test_score</th>\n",
       "      <th>mean_test_score</th>\n",
       "      <th>std_test_score</th>\n",
       "      <th>rank_test_score</th>\n",
       "      <th>split0_train_score</th>\n",
       "      <th>split1_train_score</th>\n",
       "      <th>split2_train_score</th>\n",
       "      <th>mean_train_score</th>\n",
       "      <th>std_train_score</th>\n",
       "    </tr>\n",
       "  </thead>\n",
       "  <tbody>\n",
       "    <tr>\n",
       "      <th>0</th>\n",
       "      <td>0.123488</td>\n",
       "      <td>0.110503</td>\n",
       "      <td>0.025831</td>\n",
       "      <td>0.014675</td>\n",
       "      <td>0.0001</td>\n",
       "      <td>{'alpha': 0.0001}</td>\n",
       "      <td>0.696427</td>\n",
       "      <td>0.687820</td>\n",
       "      <td>0.690701</td>\n",
       "      <td>0.691649</td>\n",
       "      <td>0.003577</td>\n",
       "      <td>1</td>\n",
       "      <td>0.751991</td>\n",
       "      <td>0.758327</td>\n",
       "      <td>0.752102</td>\n",
       "      <td>0.754140</td>\n",
       "      <td>0.002961</td>\n",
       "    </tr>\n",
       "    <tr>\n",
       "      <th>1</th>\n",
       "      <td>0.044885</td>\n",
       "      <td>0.008459</td>\n",
       "      <td>0.017614</td>\n",
       "      <td>0.002626</td>\n",
       "      <td>0.000599</td>\n",
       "      <td>{'alpha': 0.0005994842503189409}</td>\n",
       "      <td>0.696427</td>\n",
       "      <td>0.687820</td>\n",
       "      <td>0.690700</td>\n",
       "      <td>0.691649</td>\n",
       "      <td>0.003577</td>\n",
       "      <td>2</td>\n",
       "      <td>0.751990</td>\n",
       "      <td>0.758326</td>\n",
       "      <td>0.752101</td>\n",
       "      <td>0.754139</td>\n",
       "      <td>0.002961</td>\n",
       "    </tr>\n",
       "    <tr>\n",
       "      <th>2</th>\n",
       "      <td>0.040222</td>\n",
       "      <td>0.001693</td>\n",
       "      <td>0.013965</td>\n",
       "      <td>0.000003</td>\n",
       "      <td>0.003594</td>\n",
       "      <td>{'alpha': 0.003593813663804626}</td>\n",
       "      <td>0.696426</td>\n",
       "      <td>0.687819</td>\n",
       "      <td>0.690696</td>\n",
       "      <td>0.691647</td>\n",
       "      <td>0.003578</td>\n",
       "      <td>3</td>\n",
       "      <td>0.751986</td>\n",
       "      <td>0.758322</td>\n",
       "      <td>0.752097</td>\n",
       "      <td>0.754135</td>\n",
       "      <td>0.002961</td>\n",
       "    </tr>\n",
       "    <tr>\n",
       "      <th>3</th>\n",
       "      <td>0.043546</td>\n",
       "      <td>0.002050</td>\n",
       "      <td>0.016625</td>\n",
       "      <td>0.001241</td>\n",
       "      <td>0.021544</td>\n",
       "      <td>{'alpha': 0.021544346900318846}</td>\n",
       "      <td>0.696420</td>\n",
       "      <td>0.687804</td>\n",
       "      <td>0.690673</td>\n",
       "      <td>0.691633</td>\n",
       "      <td>0.003582</td>\n",
       "      <td>4</td>\n",
       "      <td>0.751960</td>\n",
       "      <td>0.758303</td>\n",
       "      <td>0.752071</td>\n",
       "      <td>0.754111</td>\n",
       "      <td>0.002964</td>\n",
       "    </tr>\n",
       "    <tr>\n",
       "      <th>4</th>\n",
       "      <td>0.045212</td>\n",
       "      <td>0.003311</td>\n",
       "      <td>0.015968</td>\n",
       "      <td>0.001400</td>\n",
       "      <td>0.129155</td>\n",
       "      <td>{'alpha': 0.1291549665014884}</td>\n",
       "      <td>0.696381</td>\n",
       "      <td>0.687731</td>\n",
       "      <td>0.690537</td>\n",
       "      <td>0.691550</td>\n",
       "      <td>0.003603</td>\n",
       "      <td>5</td>\n",
       "      <td>0.751794</td>\n",
       "      <td>0.758187</td>\n",
       "      <td>0.751929</td>\n",
       "      <td>0.753970</td>\n",
       "      <td>0.002983</td>\n",
       "    </tr>\n",
       "    <tr>\n",
       "      <th>5</th>\n",
       "      <td>0.056524</td>\n",
       "      <td>0.014311</td>\n",
       "      <td>0.014962</td>\n",
       "      <td>0.000003</td>\n",
       "      <td>0.774264</td>\n",
       "      <td>{'alpha': 0.774263682681127}</td>\n",
       "      <td>0.696159</td>\n",
       "      <td>0.687282</td>\n",
       "      <td>0.689792</td>\n",
       "      <td>0.691077</td>\n",
       "      <td>0.003736</td>\n",
       "      <td>6</td>\n",
       "      <td>0.750837</td>\n",
       "      <td>0.757469</td>\n",
       "      <td>0.751088</td>\n",
       "      <td>0.753131</td>\n",
       "      <td>0.003069</td>\n",
       "    </tr>\n",
       "    <tr>\n",
       "      <th>6</th>\n",
       "      <td>0.038894</td>\n",
       "      <td>0.001411</td>\n",
       "      <td>0.015511</td>\n",
       "      <td>0.001539</td>\n",
       "      <td>4.641589</td>\n",
       "      <td>{'alpha': 4.641588833612782}</td>\n",
       "      <td>0.694466</td>\n",
       "      <td>0.684417</td>\n",
       "      <td>0.685363</td>\n",
       "      <td>0.688082</td>\n",
       "      <td>0.004531</td>\n",
       "      <td>7</td>\n",
       "      <td>0.745081</td>\n",
       "      <td>0.753104</td>\n",
       "      <td>0.746185</td>\n",
       "      <td>0.748123</td>\n",
       "      <td>0.003550</td>\n",
       "    </tr>\n",
       "    <tr>\n",
       "      <th>7</th>\n",
       "      <td>0.039227</td>\n",
       "      <td>0.001881</td>\n",
       "      <td>0.013630</td>\n",
       "      <td>0.000470</td>\n",
       "      <td>27.825594</td>\n",
       "      <td>{'alpha': 27.825594022071257}</td>\n",
       "      <td>0.680674</td>\n",
       "      <td>0.665371</td>\n",
       "      <td>0.660684</td>\n",
       "      <td>0.668909</td>\n",
       "      <td>0.008536</td>\n",
       "      <td>8</td>\n",
       "      <td>0.713079</td>\n",
       "      <td>0.725495</td>\n",
       "      <td>0.718507</td>\n",
       "      <td>0.719027</td>\n",
       "      <td>0.005082</td>\n",
       "    </tr>\n",
       "    <tr>\n",
       "      <th>8</th>\n",
       "      <td>0.038562</td>\n",
       "      <td>0.000939</td>\n",
       "      <td>0.014994</td>\n",
       "      <td>0.001819</td>\n",
       "      <td>166.810054</td>\n",
       "      <td>{'alpha': 166.81005372000593}</td>\n",
       "      <td>0.572991</td>\n",
       "      <td>0.559744</td>\n",
       "      <td>0.557965</td>\n",
       "      <td>0.563567</td>\n",
       "      <td>0.006703</td>\n",
       "      <td>9</td>\n",
       "      <td>0.572706</td>\n",
       "      <td>0.578620</td>\n",
       "      <td>0.579621</td>\n",
       "      <td>0.576982</td>\n",
       "      <td>0.003052</td>\n",
       "    </tr>\n",
       "    <tr>\n",
       "      <th>9</th>\n",
       "      <td>0.042599</td>\n",
       "      <td>0.003074</td>\n",
       "      <td>0.013605</td>\n",
       "      <td>0.000958</td>\n",
       "      <td>1000.0</td>\n",
       "      <td>{'alpha': 1000.0}</td>\n",
       "      <td>0.500465</td>\n",
       "      <td>0.500346</td>\n",
       "      <td>0.500293</td>\n",
       "      <td>0.500368</td>\n",
       "      <td>0.000072</td>\n",
       "      <td>10</td>\n",
       "      <td>0.500346</td>\n",
       "      <td>0.500632</td>\n",
       "      <td>0.500486</td>\n",
       "      <td>0.500488</td>\n",
       "      <td>0.000117</td>\n",
       "    </tr>\n",
       "  </tbody>\n",
       "</table>\n",
       "</div>"
      ],
      "text/plain": [
       "   mean_fit_time  std_fit_time  mean_score_time  std_score_time param_alpha  \\\n",
       "0       0.123488      0.110503         0.025831        0.014675      0.0001   \n",
       "1       0.044885      0.008459         0.017614        0.002626    0.000599   \n",
       "2       0.040222      0.001693         0.013965        0.000003    0.003594   \n",
       "3       0.043546      0.002050         0.016625        0.001241    0.021544   \n",
       "4       0.045212      0.003311         0.015968        0.001400    0.129155   \n",
       "5       0.056524      0.014311         0.014962        0.000003    0.774264   \n",
       "6       0.038894      0.001411         0.015511        0.001539    4.641589   \n",
       "7       0.039227      0.001881         0.013630        0.000470   27.825594   \n",
       "8       0.038562      0.000939         0.014994        0.001819  166.810054   \n",
       "9       0.042599      0.003074         0.013605        0.000958      1000.0   \n",
       "\n",
       "                             params  split0_test_score  split1_test_score  \\\n",
       "0                 {'alpha': 0.0001}           0.696427           0.687820   \n",
       "1  {'alpha': 0.0005994842503189409}           0.696427           0.687820   \n",
       "2   {'alpha': 0.003593813663804626}           0.696426           0.687819   \n",
       "3   {'alpha': 0.021544346900318846}           0.696420           0.687804   \n",
       "4     {'alpha': 0.1291549665014884}           0.696381           0.687731   \n",
       "5      {'alpha': 0.774263682681127}           0.696159           0.687282   \n",
       "6      {'alpha': 4.641588833612782}           0.694466           0.684417   \n",
       "7     {'alpha': 27.825594022071257}           0.680674           0.665371   \n",
       "8     {'alpha': 166.81005372000593}           0.572991           0.559744   \n",
       "9                 {'alpha': 1000.0}           0.500465           0.500346   \n",
       "\n",
       "   split2_test_score  mean_test_score  std_test_score  rank_test_score  \\\n",
       "0           0.690701         0.691649        0.003577                1   \n",
       "1           0.690700         0.691649        0.003577                2   \n",
       "2           0.690696         0.691647        0.003578                3   \n",
       "3           0.690673         0.691633        0.003582                4   \n",
       "4           0.690537         0.691550        0.003603                5   \n",
       "5           0.689792         0.691077        0.003736                6   \n",
       "6           0.685363         0.688082        0.004531                7   \n",
       "7           0.660684         0.668909        0.008536                8   \n",
       "8           0.557965         0.563567        0.006703                9   \n",
       "9           0.500293         0.500368        0.000072               10   \n",
       "\n",
       "   split0_train_score  split1_train_score  split2_train_score  \\\n",
       "0            0.751991            0.758327            0.752102   \n",
       "1            0.751990            0.758326            0.752101   \n",
       "2            0.751986            0.758322            0.752097   \n",
       "3            0.751960            0.758303            0.752071   \n",
       "4            0.751794            0.758187            0.751929   \n",
       "5            0.750837            0.757469            0.751088   \n",
       "6            0.745081            0.753104            0.746185   \n",
       "7            0.713079            0.725495            0.718507   \n",
       "8            0.572706            0.578620            0.579621   \n",
       "9            0.500346            0.500632            0.500486   \n",
       "\n",
       "   mean_train_score  std_train_score  \n",
       "0          0.754140         0.002961  \n",
       "1          0.754139         0.002961  \n",
       "2          0.754135         0.002961  \n",
       "3          0.754111         0.002964  \n",
       "4          0.753970         0.002983  \n",
       "5          0.753131         0.003069  \n",
       "6          0.748123         0.003550  \n",
       "7          0.719027         0.005082  \n",
       "8          0.576982         0.003052  \n",
       "9          0.500488         0.000117  "
      ]
     },
     "execution_count": 25,
     "metadata": {},
     "output_type": "execute_result"
    }
   ],
   "source": [
    "# Perform Hyperparameter Tuning.\n",
    "# Plot the training and the CV AUC scores, for different values of 'alpha', using a 2D line plot\n",
    "\n",
    "NB = MultinomialNB(fit_prior = False,class_prior=[0.5,0.5])#defining Naivebayes classifier for crossvalidation\n",
    "params_NB = {'alpha': np.logspace(-4,3, num=10)}#initializing different values of alpha for CV\n",
    "clf = GridSearchCV(NB,params_NB,cv=3,scoring='roc_auc',return_train_score = True)#gridsearch cross validation\n",
    "clf.fit(x_tr,Y_train)\n",
    "\n",
    "# creating a dataframe using CV results obtained above and sorting them based on alpha\n",
    "results = pandas.DataFrame.from_dict(clf.cv_results_)\n",
    "results = results.sort_values(['param_alpha'])\n",
    "\n",
    "# Initializing below colums to varible names\n",
    "train_auc= results['mean_train_score']\n",
    "train_auc_std= results['std_train_score']\n",
    "cv_auc = results['mean_test_score'] \n",
    "cv_auc_std= results['std_test_score']\n",
    "alpha =  results['param_alpha']\n",
    "\n",
    "#plotting alpha vs. Train auc values\n",
    "plt.plot(alpha,train_auc,label=\"Train AUC\")\n",
    "plt.plot(alpha,cv_auc,label=\"CV AUC\")\n",
    "\n",
    "plt.scatter(alpha,train_auc,label=\"Train AUC points\")\n",
    "plt.scatter(alpha,cv_auc,label=\"CV AUC points\")\n",
    "plt.legend()\n",
    "plt.xlabel(\"Alpha: hyperparameter\")\n",
    "plt.ylabel(\"AUC\")\n",
    "plt.title(\"Hyper parameter Vs AUC plot\")\n",
    "plt.grid()\n",
    "plt.show()\n",
    "\n",
    "results"
   ]
  },
  {
   "cell_type": "markdown",
   "metadata": {},
   "source": [
    "### optimal alpha = 0.1"
   ]
  },
  {
   "cell_type": "code",
   "execution_count": 26,
   "metadata": {},
   "outputs": [],
   "source": [
    "# Obtain the optimal value for 'alpha' and using the obtained optimal 'alpha' value, fit a multinomial naive bayes model, on the train data,\n",
    "# Note: If you have split the datase into 3 parts (ie., train, cv and test sets) in the beginning, then the training datafor this final model would be (train set + cv set)\n",
    "# Make class label and probability predictions on the train and test data.\n",
    "naiveB = MultinomialNB(alpha=0.1,fit_prior = False,class_prior=[0.5,0.5])#performing naive bayes by using optimal alpha found from above\n",
    "naiveB.fit(x_tr,Y_train)\n",
    "# finding /predicting probabilities of y using  train & test dataset\n",
    "y_train_pred = naiveB.predict_proba(x_tr)[:,1]# using 1 for accessing the probability of prdicting class 1\n",
    "y_test_pred = naiveB.predict_proba(x_ts)[:,1]"
   ]
  },
  {
   "cell_type": "code",
   "execution_count": 27,
   "metadata": {},
   "outputs": [
    {
     "data": {
      "image/png": "[encoded data removed]",
      "text/plain": [
       "<Figure size 432x288 with 1 Axes>"
      ]
     },
     "metadata": {
      "needs_background": "light"
     },
     "output_type": "display_data"
    }
   ],
   "source": [
    "# Plot the ROC-AUC curves using the probability predictions made on train and test data.\n",
    "train_fpr, train_tpr, tr_thresholds = roc_curve(Y_train, y_train_pred)\n",
    "test_fpr, test_tpr, te_thresholds = roc_curve(Y_test, y_test_pred)\n",
    "\n",
    "# Plotting ROC-AUC curve\n",
    "plt.plot(train_fpr, train_tpr, label=\"train AUC =\"+str(auc(train_fpr, train_tpr)))\n",
    "plt.plot(test_fpr, test_tpr, label=\"test AUC =\"+str(auc(test_fpr, test_tpr)))\n",
    "plt.legend()\n",
    "plt.xlabel(\"FPR\")\n",
    "plt.ylabel(\"TPR\")\n",
    "plt.title(\"AUC\")\n",
    "plt.grid()\n",
    "plt.show()"
   ]
  },
  {
   "cell_type": "code",
   "execution_count": 28,
   "metadata": {},
   "outputs": [],
   "source": [
    "# Pick the best threshold among the probability estimates, such that it has to yield maximum value for TPR*(1-FPR)\n",
    "# Plot the confusion matrices(each for train and test data) afer encoding the predicted class labels, on the basis of the best threshod probability estimate.\n",
    "def best_threshold(threshold, fpr, tpr):\n",
    "    t = threshold[np.argmax(tpr*(1-fpr))]\n",
    "    # (tpr*(1-fpr)) will be maximum if your fpr is very low and tpr is very high\n",
    "    print(\"the maximum value of tpr*(1-fpr)\", max(tpr*(1-fpr)), \"for threshold\", np.round(t,3))\n",
    "    return t\n",
    "\n",
    "def predict_with_best_t(proba, threshold):\n",
    "    predictions = []\n",
    "    for i in proba:\n",
    "        if i>=threshold:\n",
    "            predictions.append(1)\n",
    "        else:\n",
    "            predictions.append(0)\n",
    "    return predictions"
   ]
  },
  {
   "cell_type": "code",
   "execution_count": 29,
   "metadata": {},
   "outputs": [
    {
     "name": "stdout",
     "output_type": "stream",
     "text": [
      "the maximum value of tpr*(1-fpr) 0.46389983323315837 for threshold 0.606\n",
      "Confusion Matrix of Train data: \n",
      " AxesSubplot(0.125,0.125;0.62x0.755)\n"
     ]
    },
    {
     "data": {
      "image/png": "[encoded data removed]",
      "text/plain": [
       "<Figure size 432x288 with 2 Axes>"
      ]
     },
     "metadata": {
      "needs_background": "light"
     },
     "output_type": "display_data"
    }
   ],
   "source": [
    "best_thresh = best_threshold(tr_thresholds,train_fpr,train_tpr)\n",
    "# Confusion matrix for train data\n",
    "cm_tr=confusion_matrix(Y_train,predict_with_best_t(y_train_pred,best_thresh))\n",
    "# Using heatmap to display confusion matrix\n",
    "print(\"Confusion Matrix of Train data: \\n\",sns.heatmap(cm_tr, annot=True,fmt=\"d\",cmap='OrRd'))"
   ]
  },
  {
   "cell_type": "markdown",
   "metadata": {},
   "source": [
    "* BOW Train accuracy = 68.9%"
   ]
  },
  {
   "cell_type": "code",
   "execution_count": 30,
   "metadata": {},
   "outputs": [
    {
     "name": "stdout",
     "output_type": "stream",
     "text": [
      "Confusion Matrix of Test data: \n",
      " AxesSubplot(0.125,0.125;0.62x0.755)\n"
     ]
    },
    {
     "data": {
      "image/png": "[encoded data removed]",
      "text/plain": [
       "<Figure size 432x288 with 2 Axes>"
      ]
     },
     "metadata": {
      "needs_background": "light"
     },
     "output_type": "display_data"
    }
   ],
   "source": [
    "cm_ts=confusion_matrix(Y_test,predict_with_best_t(y_test_pred,best_thresh))\n",
    "#Confusion matrix for test data\n",
    "print(\"Confusion Matrix of Test data: \\n\",sns.heatmap(cm_ts, annot=True,fmt=\"d\",cmap='OrRd'))"
   ]
  },
  {
   "cell_type": "markdown",
   "metadata": {},
   "source": [
    "* BOW Test accuracy = 67.5%"
   ]
  },
  {
   "cell_type": "code",
   "execution_count": 31,
   "metadata": {},
   "outputs": [
    {
     "name": "stdout",
     "output_type": "stream",
     "text": [
      "features:\n",
      " ['students', 'school', 'my', 'classroom', 'learning', 'the', 'not', 'they', 'learn', 'my students', 'help', 'price', 'many', 'nannan', 'work', 'reading', 'we', 'need', 'use', 'able']\n"
     ]
    }
   ],
   "source": [
    "#finding the inedx of probabilities of features and sorting them from high to low\n",
    "neg =np.flip(np.argsort(naiveB.feature_log_prob_[0]))\n",
    "pos = np.flip(np.argsort(naiveB.feature_log_prob_[1]))\n",
    "\n",
    "# finding feature names using indexes obtained in above and from feature set\n",
    "res = []\n",
    "for i in pos[:20]:\n",
    "    res.append(features_set1[i])\n",
    "print('features:\\n',res)"
   ]
  },
  {
   "cell_type": "markdown",
   "metadata": {},
   "source": [
    "* As we can see all the top 20 features belong to the vectorized features of essay column"
   ]
  },
  {
   "cell_type": "markdown",
   "metadata": {},
   "source": [
    "#### Set 2"
   ]
  },
  {
   "cell_type": "code",
   "execution_count": 32,
   "metadata": {},
   "outputs": [
    {
     "name": "stdout",
     "output_type": "stream",
     "text": [
      "Final Data matrix\n",
      "(33500, 5060) (33500,)\n",
      "(16500, 5060) (16500,)\n"
     ]
    }
   ],
   "source": [
    "# X train data formation using hstack of Tfidf vectorized data\n",
    "x_tr2 = hstack((X_train_tfidf,X_train_tfidf_st,X_train_tfidf_pr,X_train_tfidf_pc,X_train_price)).tocsr()\n",
    "x_ts2 = hstack((X_test_tfidf,X_test_tfidf_st,X_test_tfidf_pr,X_test_tfidf_pc,X_test_price)).tocsr()\n",
    "\n",
    "print(\"Final Data matrix\")\n",
    "print(x_tr2.shape,Y_train.shape)\n",
    "print(x_ts2.shape,Y_test.shape)"
   ]
  },
  {
   "cell_type": "code",
   "execution_count": 33,
   "metadata": {},
   "outputs": [
    {
     "data": {
      "image/png": "[encoded data removed]",
      "text/plain": [
       "<Figure size 432x288 with 1 Axes>"
      ]
     },
     "metadata": {
      "needs_background": "light"
     },
     "output_type": "display_data"
    },
    {
     "data": {
      "text/html": [
       "<div>\n",
       "<style scoped>\n",
       "    .dataframe tbody tr th:only-of-type {\n",
       "        vertical-align: middle;\n",
       "    }\n",
       "\n",
       "    .dataframe tbody tr th {\n",
       "        vertical-align: top;\n",
       "    }\n",
       "\n",
       "    .dataframe thead th {\n",
       "        text-align: right;\n",
       "    }\n",
       "</style>\n",
       "<table border=\"1\" class=\"dataframe\">\n",
       "  <thead>\n",
       "    <tr style=\"text-align: right;\">\n",
       "      <th></th>\n",
       "      <th>mean_fit_time</th>\n",
       "      <th>std_fit_time</th>\n",
       "      <th>mean_score_time</th>\n",
       "      <th>std_score_time</th>\n",
       "      <th>param_alpha</th>\n",
       "      <th>params</th>\n",
       "      <th>split0_test_score</th>\n",
       "      <th>split1_test_score</th>\n",
       "      <th>split2_test_score</th>\n",
       "      <th>mean_test_score</th>\n",
       "      <th>std_test_score</th>\n",
       "      <th>rank_test_score</th>\n",
       "      <th>split0_train_score</th>\n",
       "      <th>split1_train_score</th>\n",
       "      <th>split2_train_score</th>\n",
       "      <th>mean_train_score</th>\n",
       "      <th>std_train_score</th>\n",
       "    </tr>\n",
       "  </thead>\n",
       "  <tbody>\n",
       "    <tr>\n",
       "      <th>0</th>\n",
       "      <td>0.043887</td>\n",
       "      <td>0.002155</td>\n",
       "      <td>0.015957</td>\n",
       "      <td>0.000812</td>\n",
       "      <td>0.0001</td>\n",
       "      <td>{'alpha': 0.0001}</td>\n",
       "      <td>0.692464</td>\n",
       "      <td>0.683350</td>\n",
       "      <td>0.689123</td>\n",
       "      <td>0.688312</td>\n",
       "      <td>0.003765</td>\n",
       "      <td>1</td>\n",
       "      <td>0.765258</td>\n",
       "      <td>0.768521</td>\n",
       "      <td>0.762511</td>\n",
       "      <td>0.765430</td>\n",
       "      <td>0.002456</td>\n",
       "    </tr>\n",
       "    <tr>\n",
       "      <th>1</th>\n",
       "      <td>0.045532</td>\n",
       "      <td>0.000459</td>\n",
       "      <td>0.017291</td>\n",
       "      <td>0.000473</td>\n",
       "      <td>0.000599</td>\n",
       "      <td>{'alpha': 0.0005994842503189409}</td>\n",
       "      <td>0.692462</td>\n",
       "      <td>0.683347</td>\n",
       "      <td>0.689116</td>\n",
       "      <td>0.688308</td>\n",
       "      <td>0.003765</td>\n",
       "      <td>2</td>\n",
       "      <td>0.765250</td>\n",
       "      <td>0.768514</td>\n",
       "      <td>0.762504</td>\n",
       "      <td>0.765423</td>\n",
       "      <td>0.002457</td>\n",
       "    </tr>\n",
       "    <tr>\n",
       "      <th>2</th>\n",
       "      <td>0.044201</td>\n",
       "      <td>0.002485</td>\n",
       "      <td>0.017957</td>\n",
       "      <td>0.003545</td>\n",
       "      <td>0.003594</td>\n",
       "      <td>{'alpha': 0.003593813663804626}</td>\n",
       "      <td>0.692449</td>\n",
       "      <td>0.683313</td>\n",
       "      <td>0.689069</td>\n",
       "      <td>0.688277</td>\n",
       "      <td>0.003771</td>\n",
       "      <td>3</td>\n",
       "      <td>0.765204</td>\n",
       "      <td>0.768476</td>\n",
       "      <td>0.762462</td>\n",
       "      <td>0.765381</td>\n",
       "      <td>0.002458</td>\n",
       "    </tr>\n",
       "    <tr>\n",
       "      <th>3</th>\n",
       "      <td>0.042896</td>\n",
       "      <td>0.001645</td>\n",
       "      <td>0.014974</td>\n",
       "      <td>0.000014</td>\n",
       "      <td>0.021544</td>\n",
       "      <td>{'alpha': 0.021544346900318846}</td>\n",
       "      <td>0.692361</td>\n",
       "      <td>0.683137</td>\n",
       "      <td>0.688812</td>\n",
       "      <td>0.688103</td>\n",
       "      <td>0.003799</td>\n",
       "      <td>4</td>\n",
       "      <td>0.764921</td>\n",
       "      <td>0.768247</td>\n",
       "      <td>0.762204</td>\n",
       "      <td>0.765124</td>\n",
       "      <td>0.002471</td>\n",
       "    </tr>\n",
       "    <tr>\n",
       "      <th>4</th>\n",
       "      <td>0.045876</td>\n",
       "      <td>0.002178</td>\n",
       "      <td>0.021960</td>\n",
       "      <td>0.006457</td>\n",
       "      <td>0.129155</td>\n",
       "      <td>{'alpha': 0.1291549665014884}</td>\n",
       "      <td>0.691760</td>\n",
       "      <td>0.682018</td>\n",
       "      <td>0.687231</td>\n",
       "      <td>0.687003</td>\n",
       "      <td>0.003980</td>\n",
       "      <td>5</td>\n",
       "      <td>0.763231</td>\n",
       "      <td>0.766844</td>\n",
       "      <td>0.760674</td>\n",
       "      <td>0.763583</td>\n",
       "      <td>0.002531</td>\n",
       "    </tr>\n",
       "    <tr>\n",
       "      <th>5</th>\n",
       "      <td>0.043210</td>\n",
       "      <td>0.002601</td>\n",
       "      <td>0.015638</td>\n",
       "      <td>0.001688</td>\n",
       "      <td>0.774264</td>\n",
       "      <td>{'alpha': 0.774263682681127}</td>\n",
       "      <td>0.687084</td>\n",
       "      <td>0.674580</td>\n",
       "      <td>0.677469</td>\n",
       "      <td>0.679711</td>\n",
       "      <td>0.005346</td>\n",
       "      <td>6</td>\n",
       "      <td>0.752338</td>\n",
       "      <td>0.757638</td>\n",
       "      <td>0.750922</td>\n",
       "      <td>0.753632</td>\n",
       "      <td>0.002890</td>\n",
       "    </tr>\n",
       "    <tr>\n",
       "      <th>6</th>\n",
       "      <td>0.045891</td>\n",
       "      <td>0.000023</td>\n",
       "      <td>0.016292</td>\n",
       "      <td>0.001703</td>\n",
       "      <td>4.641589</td>\n",
       "      <td>{'alpha': 4.641588833612782}</td>\n",
       "      <td>0.650411</td>\n",
       "      <td>0.631390</td>\n",
       "      <td>0.627715</td>\n",
       "      <td>0.636506</td>\n",
       "      <td>0.009946</td>\n",
       "      <td>7</td>\n",
       "      <td>0.690761</td>\n",
       "      <td>0.701219</td>\n",
       "      <td>0.695868</td>\n",
       "      <td>0.695949</td>\n",
       "      <td>0.004270</td>\n",
       "    </tr>\n",
       "    <tr>\n",
       "      <th>7</th>\n",
       "      <td>0.045885</td>\n",
       "      <td>0.000802</td>\n",
       "      <td>0.015963</td>\n",
       "      <td>0.001628</td>\n",
       "      <td>27.825594</td>\n",
       "      <td>{'alpha': 27.825594022071257}</td>\n",
       "      <td>0.581827</td>\n",
       "      <td>0.564501</td>\n",
       "      <td>0.555599</td>\n",
       "      <td>0.567309</td>\n",
       "      <td>0.010890</td>\n",
       "      <td>8</td>\n",
       "      <td>0.587132</td>\n",
       "      <td>0.598066</td>\n",
       "      <td>0.599473</td>\n",
       "      <td>0.594890</td>\n",
       "      <td>0.005516</td>\n",
       "    </tr>\n",
       "    <tr>\n",
       "      <th>8</th>\n",
       "      <td>0.041889</td>\n",
       "      <td>0.001638</td>\n",
       "      <td>0.014615</td>\n",
       "      <td>0.000945</td>\n",
       "      <td>166.810054</td>\n",
       "      <td>{'alpha': 166.81005372000593}</td>\n",
       "      <td>0.542035</td>\n",
       "      <td>0.536103</td>\n",
       "      <td>0.528295</td>\n",
       "      <td>0.535478</td>\n",
       "      <td>0.005627</td>\n",
       "      <td>9</td>\n",
       "      <td>0.539943</td>\n",
       "      <td>0.544586</td>\n",
       "      <td>0.548064</td>\n",
       "      <td>0.544198</td>\n",
       "      <td>0.003327</td>\n",
       "    </tr>\n",
       "    <tr>\n",
       "      <th>9</th>\n",
       "      <td>0.041242</td>\n",
       "      <td>0.001230</td>\n",
       "      <td>0.017944</td>\n",
       "      <td>0.002800</td>\n",
       "      <td>1000.0</td>\n",
       "      <td>{'alpha': 1000.0}</td>\n",
       "      <td>0.526389</td>\n",
       "      <td>0.522537</td>\n",
       "      <td>0.520342</td>\n",
       "      <td>0.523089</td>\n",
       "      <td>0.002499</td>\n",
       "      <td>10</td>\n",
       "      <td>0.523335</td>\n",
       "      <td>0.526749</td>\n",
       "      <td>0.527637</td>\n",
       "      <td>0.525907</td>\n",
       "      <td>0.001855</td>\n",
       "    </tr>\n",
       "  </tbody>\n",
       "</table>\n",
       "</div>"
      ],
      "text/plain": [
       "   mean_fit_time  std_fit_time  mean_score_time  std_score_time param_alpha  \\\n",
       "0       0.043887      0.002155         0.015957        0.000812      0.0001   \n",
       "1       0.045532      0.000459         0.017291        0.000473    0.000599   \n",
       "2       0.044201      0.002485         0.017957        0.003545    0.003594   \n",
       "3       0.042896      0.001645         0.014974        0.000014    0.021544   \n",
       "4       0.045876      0.002178         0.021960        0.006457    0.129155   \n",
       "5       0.043210      0.002601         0.015638        0.001688    0.774264   \n",
       "6       0.045891      0.000023         0.016292        0.001703    4.641589   \n",
       "7       0.045885      0.000802         0.015963        0.001628   27.825594   \n",
       "8       0.041889      0.001638         0.014615        0.000945  166.810054   \n",
       "9       0.041242      0.001230         0.017944        0.002800      1000.0   \n",
       "\n",
       "                             params  split0_test_score  split1_test_score  \\\n",
       "0                 {'alpha': 0.0001}           0.692464           0.683350   \n",
       "1  {'alpha': 0.0005994842503189409}           0.692462           0.683347   \n",
       "2   {'alpha': 0.003593813663804626}           0.692449           0.683313   \n",
       "3   {'alpha': 0.021544346900318846}           0.692361           0.683137   \n",
       "4     {'alpha': 0.1291549665014884}           0.691760           0.682018   \n",
       "5      {'alpha': 0.774263682681127}           0.687084           0.674580   \n",
       "6      {'alpha': 4.641588833612782}           0.650411           0.631390   \n",
       "7     {'alpha': 27.825594022071257}           0.581827           0.564501   \n",
       "8     {'alpha': 166.81005372000593}           0.542035           0.536103   \n",
       "9                 {'alpha': 1000.0}           0.526389           0.522537   \n",
       "\n",
       "   split2_test_score  mean_test_score  std_test_score  rank_test_score  \\\n",
       "0           0.689123         0.688312        0.003765                1   \n",
       "1           0.689116         0.688308        0.003765                2   \n",
       "2           0.689069         0.688277        0.003771                3   \n",
       "3           0.688812         0.688103        0.003799                4   \n",
       "4           0.687231         0.687003        0.003980                5   \n",
       "5           0.677469         0.679711        0.005346                6   \n",
       "6           0.627715         0.636506        0.009946                7   \n",
       "7           0.555599         0.567309        0.010890                8   \n",
       "8           0.528295         0.535478        0.005627                9   \n",
       "9           0.520342         0.523089        0.002499               10   \n",
       "\n",
       "   split0_train_score  split1_train_score  split2_train_score  \\\n",
       "0            0.765258            0.768521            0.762511   \n",
       "1            0.765250            0.768514            0.762504   \n",
       "2            0.765204            0.768476            0.762462   \n",
       "3            0.764921            0.768247            0.762204   \n",
       "4            0.763231            0.766844            0.760674   \n",
       "5            0.752338            0.757638            0.750922   \n",
       "6            0.690761            0.701219            0.695868   \n",
       "7            0.587132            0.598066            0.599473   \n",
       "8            0.539943            0.544586            0.548064   \n",
       "9            0.523335            0.526749            0.527637   \n",
       "\n",
       "   mean_train_score  std_train_score  \n",
       "0          0.765430         0.002456  \n",
       "1          0.765423         0.002457  \n",
       "2          0.765381         0.002458  \n",
       "3          0.765124         0.002471  \n",
       "4          0.763583         0.002531  \n",
       "5          0.753632         0.002890  \n",
       "6          0.695949         0.004270  \n",
       "7          0.594890         0.005516  \n",
       "8          0.544198         0.003327  \n",
       "9          0.525907         0.001855  "
      ]
     },
     "execution_count": 33,
     "metadata": {},
     "output_type": "execute_result"
    }
   ],
   "source": [
    "# Perform Hyperparameter Tuning.\n",
    "# Plot the training and the CV AUC scores, for different values of 'alpha', using a 2D line plot\n",
    "\n",
    "NB = MultinomialNB(fit_prior = False,class_prior=[0.5,0.5])#defining Naivebayes classifier for crossvalidation\n",
    "params_NB = {'alpha': np.logspace(-4,3, num=10)}#initializing different values of alpha for CV\n",
    "clf = GridSearchCV(NB,params_NB,cv=3,scoring='roc_auc',return_train_score = True)#gridsearch cross validation\n",
    "clf.fit(x_tr2,Y_train)\n",
    "\n",
    "# creating a dataframe using CV results obtained above and sorting them based on alpha\n",
    "results = pandas.DataFrame.from_dict(clf.cv_results_)\n",
    "results = results.sort_values(['param_alpha'])\n",
    "\n",
    "# Initializing below colums to varible names\n",
    "train_auc= results['mean_train_score']\n",
    "train_auc_std= results['std_train_score']\n",
    "cv_auc = results['mean_test_score'] \n",
    "cv_auc_std= results['std_test_score']\n",
    "alpha =  results['param_alpha']\n",
    "\n",
    "#plotting alpha vs. Train auc values\n",
    "plt.plot(alpha,train_auc,label=\"Train AUC\")\n",
    "plt.plot(alpha,cv_auc,label=\"CV AUC\")\n",
    "\n",
    "plt.scatter(alpha,train_auc,label=\"Train AUC points\")\n",
    "plt.scatter(alpha,cv_auc,label=\"CV AUC points\")\n",
    "plt.legend()\n",
    "plt.xlabel(\"Alpha: hyperparameter\")\n",
    "plt.ylabel(\"AUC\")\n",
    "plt.title(\"Hyper parameter Vs AUC plot\")\n",
    "plt.grid()\n",
    "plt.show()\n",
    "\n",
    "results\n"
   ]
  },
  {
   "cell_type": "code",
   "execution_count": 34,
   "metadata": {},
   "outputs": [],
   "source": [
    "# Obtain the optimal value for 'alpha' and using the obtained optimal 'alpha' value, fit a multinomial naive bayes model, on the train data,\n",
    "# Note: If you have split the datase into 3 parts (ie., train, cv and test sets) in the beginning, then the training datafor this final model would be (train set + cv set)\n",
    "# Make class label and probability predictions on the train and test data.\n",
    "\n",
    "naiveB = MultinomialNB(alpha=0.1,fit_prior = False,class_prior=[0.5,0.5])#performing naive bayes by using optimal alpha found from above\n",
    "naiveB.fit(x_tr2,Y_train)\n",
    "\n",
    "# finding /predicting probabilities of y using  train & test dataset\n",
    "y_train_pred = naiveB.predict_proba(x_tr2)[:,1]# using 1 for accessing the probability of prdicting class 1\n",
    "y_test_pred = naiveB.predict_proba(x_ts2)[:,1]"
   ]
  },
  {
   "cell_type": "code",
   "execution_count": 35,
   "metadata": {},
   "outputs": [
    {
     "data": {
      "image/png": "[encoded data removed]",
      "text/plain": [
       "<Figure size 432x288 with 1 Axes>"
      ]
     },
     "metadata": {
      "needs_background": "light"
     },
     "output_type": "display_data"
    }
   ],
   "source": [
    "# Plot the ROC-AUC curves using the probability predictions made on train and test data.\n",
    "train_fpr, train_tpr, tr_thresholds = roc_curve(Y_train, y_train_pred)\n",
    "test_fpr, test_tpr, te_thresholds = roc_curve(Y_test, y_test_pred)\n",
    "#Plotting ROC AUC curve\n",
    "plt.plot(train_fpr, train_tpr, label=\"train AUC =\"+str(auc(train_fpr, train_tpr)))\n",
    "plt.plot(test_fpr, test_tpr, label=\"test AUC =\"+str(auc(test_fpr, test_tpr)))\n",
    "plt.legend()\n",
    "plt.xlabel(\"FPR\")\n",
    "plt.ylabel(\"TPR\")\n",
    "plt.title(\"AUC\")\n",
    "plt.grid()\n",
    "plt.show()"
   ]
  },
  {
   "cell_type": "code",
   "execution_count": 36,
   "metadata": {},
   "outputs": [
    {
     "name": "stdout",
     "output_type": "stream",
     "text": [
      "the maximum value of tpr*(1-fpr) 0.47208200509757664 for threshold 0.509\n",
      "Confusion Matrix of Train data: \n",
      " AxesSubplot(0.125,0.125;0.62x0.755)\n"
     ]
    },
    {
     "data": {
      "image/png": "[encoded data removed]",
      "text/plain": [
       "<Figure size 432x288 with 2 Axes>"
      ]
     },
     "metadata": {
      "needs_background": "light"
     },
     "output_type": "display_data"
    }
   ],
   "source": [
    "# Pick the best threshold among the probability estimates, such that it has to yield maximum value for TPR*(1-FPR)\n",
    "# Plot the confusion matrices(each for train and test data) afer encoding the predicted class labels, on the basis of the best threshod probability estimate.\n",
    "best_thresh = best_threshold(tr_thresholds,train_fpr,train_tpr)\n",
    "# Confusion matrix for train data\n",
    "cm_tr=confusion_matrix(Y_train,predict_with_best_t(y_train_pred,best_thresh))\n",
    "# Using heatmap to display confusion matrix\n",
    "print(\"Confusion Matrix of Train data: \\n\",sns.heatmap(cm_tr, annot=True,fmt=\"d\",cmap='OrRd'))"
   ]
  },
  {
   "cell_type": "markdown",
   "metadata": {},
   "source": [
    "* Tfidf Train accuracy = 69.4%"
   ]
  },
  {
   "cell_type": "code",
   "execution_count": 37,
   "metadata": {},
   "outputs": [
    {
     "name": "stdout",
     "output_type": "stream",
     "text": [
      "Confusion Matrix of Test data: \n",
      " AxesSubplot(0.125,0.125;0.62x0.755)\n"
     ]
    },
    {
     "data": {
      "image/png": "[encoded data removed]",
      "text/plain": [
       "<Figure size 432x288 with 2 Axes>"
      ]
     },
     "metadata": {
      "needs_background": "light"
     },
     "output_type": "display_data"
    }
   ],
   "source": [
    "# Confusion matrix for train data\n",
    "cm_ts=confusion_matrix(Y_test,predict_with_best_t(y_test_pred,best_thresh))\n",
    "print(\"Confusion Matrix of Test data: \\n\",sns.heatmap(cm_ts, annot=True,fmt=\"d\",cmap='OrRd'))"
   ]
  },
  {
   "cell_type": "markdown",
   "metadata": {},
   "source": [
    "* Tfidf Test accuracy = 67.5%"
   ]
  },
  {
   "cell_type": "code",
   "execution_count": 38,
   "metadata": {},
   "outputs": [
    {
     "name": "stdout",
     "output_type": "stream",
     "text": [
      "features:\n",
      " ['price', 'mrs', 'grades_prek_2', 'ms', 'grades_3_5', 'ca', 'grades_6_8', 'students', 'grades_9_12', 'mr', 'tx', 'ny', 'fl', 'nc', 'school', 'classroom', 'il', 'learning', 'ga', 'my']\n"
     ]
    }
   ],
   "source": [
    "# Either from set 1 (or) set 2, print the names of the top 20 features associated with the positive and negative classes each. (You have to print the names of the features, but not the indexes)\n",
    "\n",
    "#finding the inedx of probabilities of features and sorting them from high to low\n",
    "neg =np.flip(np.argsort(naiveB.feature_log_prob_[0]))\n",
    "pos = np.flip(np.argsort(naiveB.feature_log_prob_[1]))\n",
    "# finding feature names using indexes obtained in above and from feature set\n",
    "res2 = []\n",
    "for i in pos[:20]:\n",
    "    res2.append(features_set2[i])\n",
    "print('features:\\n',res2)"
   ]
  },
  {
   "cell_type": "markdown",
   "metadata": {},
   "source": [
    "* Here the top 20 features contain a mixture of essay words, school city, teacher prefix, project grade category and price"
   ]
  },
  {
   "cell_type": "markdown",
   "metadata": {
    "id": "lS9hIHdib3dp"
   },
   "source": [
    "<h1>3. Summary</h1>\n",
    "\n",
    "<br> as mentioned in the step 5 of instructions"
   ]
  },
  {
   "cell_type": "code",
   "execution_count": 39,
   "metadata": {},
   "outputs": [
    {
     "name": "stdout",
     "output_type": "stream",
     "text": [
      "+-------------+------------+----------------------+--------+----------+\n",
      "|  Vectorizer |   Model    | Hyperparameter-Alpha |  AUC   | Accuracy |\n",
      "+-------------+------------+----------------------+--------+----------+\n",
      "|  BOW-Train  | NaiveBayes |         0.1          | 0.7348 |  68.9%   |\n",
      "|   BOW-Test  | NaiveBayes |         0.1          | 0.6949 |  67.5%   |\n",
      "| TFIDF-Train | NaiveBayes |         0.1          | 0.7433 |  69.4%   |\n",
      "|  TFIDF-Test | NaiveBayes |         0.1          | 0.6933 |  67.5%   |\n",
      "+-------------+------------+----------------------+--------+----------+\n"
     ]
    }
   ],
   "source": [
    "#Summarize your assignment work here in a few points, and also compare the final models (from set 1 and set 2), in terms of optimal hyperparameter value 'alpha', training AUC and test AUC scores.\n",
    "# You can either use a pretty table or any other tabular structure.\n",
    "# Reference Link for Pretty table:  https://pypi.org/project/prettytable/\n",
    "from prettytable import PrettyTable\n",
    "x = PrettyTable(['Vectorizer','Model','Hyperparameter-Alpha','AUC','Accuracy'])\n",
    "x.add_rows([\n",
    "    ['BOW-Train','NaiveBayes',0.1,0.7348,'68.9%'],\n",
    "    ['BOW-Test','NaiveBayes',0.1,0.6949,'67.5%'],\n",
    "    ['TFIDF-Train','NaiveBayes',0.1,0.7433,'69.4%'],\n",
    "    ['TFIDF-Test','NaiveBayes',0.1,0.6933,'67.5%']  \n",
    "])\n",
    "print(x)"
   ]
  },
  {
   "cell_type": "markdown",
   "metadata": {},
   "source": [
    "* California(ca) has the majority of project approvals and disapprovals\n",
    "* More than 75% of the projects of teachers with prefix (mr,mrs,ms) has been approved\n",
    "* More than 50% approvals belong to grades_3-5 and grades_prek_2\n",
    "* Total no. of previously posted projects is high for mrs & ms categories of teacher_prefix feature and More than 75% of them are approved\n",
    "---\n",
    "* The plot between no. of previously posted projects and price of the current project follows a power law distribution pattern\n",
    "* Teachers whose no. of previously posted projects is less are asking for high price for the current project and vice-versa.\n",
    "---\n",
    "Max probabilties contibuting to classification as class 1(Project Approved label)\n",
    "* The top 20 features belong to the vectorized features of essay column when BOW is used for Vectorization\n",
    "* The top 20 features contain a mixture of essay words, school city, teacher prefix, project grade category and price when used Tfidf vectorization"
   ]
  }
 ],
 "metadata": {
  "colab": {
   "collapsed_sections": [],
   "name": "6_Assignment_NB_Instructions.ipynb",
   "provenance": []
  },
  "kernelspec": {
   "display_name": "Python 3 (ipykernel)",
   "language": "python",
   "name": "python3"
  },
  "language_info": {
   "codemirror_mode": {
    "name": "ipython",
    "version": 3
   },
   "file_extension": ".py",
   "mimetype": "text/x-python",
   "name": "python",
   "nbconvert_exporter": "python",
   "pygments_lexer": "ipython3",
   "version": "3.9.7"
  }
 },
 "nbformat": 4,
 "nbformat_minor": 1
}
